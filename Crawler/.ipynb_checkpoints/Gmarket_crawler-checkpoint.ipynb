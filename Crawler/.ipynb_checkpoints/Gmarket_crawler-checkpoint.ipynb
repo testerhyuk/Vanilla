{
 "cells": [
  {
   "cell_type": "markdown",
   "id": "01f578c8",
   "metadata": {},
   "source": [
    "# Gmarket 의류 데이터 수집"
   ]
  },
  {
   "cell_type": "code",
   "execution_count": 17,
   "id": "6224c0e9",
   "metadata": {},
   "outputs": [],
   "source": [
    "import pandas as pd\n",
    "import requests\n",
    "from bs4 import BeautifulSoup\n",
    "import os"
   ]
  },
  {
   "cell_type": "code",
   "execution_count": 4,
   "id": "9f8ee7ed",
   "metadata": {},
   "outputs": [],
   "source": [
    "url = 'https://corners.gmarket.co.kr/Bestsellers?viewType=G&groupCode=G01&subGroupCode=S162\\\n",
    "&largeCategoryCode=100000104&mediumCategoryCode=200002680'"
   ]
  },
  {
   "cell_type": "code",
   "execution_count": 5,
   "id": "c4b4f0db",
   "metadata": {},
   "outputs": [
    {
     "data": {
      "text/plain": [
       "<Response [200]>"
      ]
     },
     "execution_count": 5,
     "metadata": {},
     "output_type": "execute_result"
    }
   ],
   "source": [
    "response = requests.get(url)\n",
    "response"
   ]
  },
  {
   "cell_type": "code",
   "execution_count": 6,
   "id": "433f4320",
   "metadata": {},
   "outputs": [
    {
     "data": {
      "text/plain": [
       "100"
      ]
     },
     "execution_count": 6,
     "metadata": {},
     "output_type": "execute_result"
    }
   ],
   "source": [
    "dom = BeautifulSoup(response.text, 'html.parser')\n",
    "elements = dom.select('#gBestWrap > div > div:nth-child(5) > div > ul > li')\n",
    "\n",
    "len(elements)"
   ]
  },
  {
   "cell_type": "code",
   "execution_count": 7,
   "id": "4b2bd62c",
   "metadata": {},
   "outputs": [
    {
     "data": {
      "text/plain": [
       "<li class=\"first\" id=\"itemidx1\">\n",
       "<p class=\"no1\" id=\"no1\">1</p>\n",
       "<div class=\"thumb\">\n",
       "<a href=\"http://item.gmarket.co.kr/Item?goodscode=1841014761&amp;ver=638119328470528825\" onclick=\"pdsClickLog('200000680', 'Item', {'ASN': 1, 'goodsCode': '1841014761'}); setStorageItem('1','1841014761','100');\"><img alt=\"[예작] 갤러리아 양말증정두장구매시예작22년멋쟁이가을신상품 긴팔셔츠YJ2FBS15\" class=\"lazy\" data-original=\"//gdimg.gmarket.co.kr/1841014761/still/300?ver=2023021400\" height=\"210\" src=\"//image.gmarket.co.kr/challenge/neo_image/no_image.gif\" width=\"210\"/></a>\n",
       "</div>\n",
       "<!--div class=\"goods-view\">\n",
       "\t\t\t\t\t\t\t\t\t<a href=\"http://minishop.gmarket.co.kr/galleria5\"><span class=\"view\">판매자 다른상품 보기</span>갤러리아백화점</a>\n",
       "\t\t\t\t\t\t\t\t</div-->\n",
       "<a class=\"itemname\" href=\"http://item.gmarket.co.kr/Item?goodscode=1841014761&amp;ver=638119328470528825\" onclick=\"pdsClickLog('200000680', 'Item', {'ASN': 1, 'goodsCode': '1841014761'}); setStorageItem('1','1841014761','100');\">[예작] 갤러리아 양말증정두장구매시예작22년멋쟁이가을신상품 긴팔셔츠YJ2FBS15</a>\n",
       "<div class=\"item_price\">\n",
       "<div class=\"o-price\"><span class=\"for-a11y\">정가</span><span>35,000원</span></div>\n",
       "<div class=\"s-price\">\n",
       "<span class=\"for-a11y\">할인가</span><strong><span>24,500원</span></strong>\n",
       "<span><span class=\"sale\"></span><em>30%</em></span>\n",
       "</div>\n",
       "<div class=\"icon\">\n",
       "<img alt=\"무료배송\" src=\"//pics.gmkt.kr/pc/ko/corner/gbest/ic_freeshipping.gif\"/>\n",
       "</div>\n",
       "</div>\n",
       "</li>"
      ]
     },
     "execution_count": 7,
     "metadata": {},
     "output_type": "execute_result"
    }
   ],
   "source": [
    "element = elements[0]\n",
    "element"
   ]
  },
  {
   "cell_type": "code",
   "execution_count": 13,
   "id": "770c0114",
   "metadata": {},
   "outputs": [
    {
     "data": {
      "text/plain": [
       "{'title': '[예작] 예작 SH04 구김없는 런던스트라이프 와이드카라 YJ9FBS967BL (9323109)',\n",
       " 'price': '21,830원',\n",
       " 'img': 'https://gdimg.gmarket.co.kr/2699999148/still/300?ver=2023021400'}"
      ]
     },
     "execution_count": 13,
     "metadata": {},
     "output_type": "execute_result"
    }
   ],
   "source": [
    "data = {\n",
    "    'title' : element.select_one('.itemname').text,\n",
    "    'price' : element.select_one('.s-price > strong > span').text,\n",
    "    'img' : 'https:' + element.select_one('img.lazy').get('data-original'),\n",
    "}\n",
    "data"
   ]
  },
  {
   "cell_type": "code",
   "execution_count": 15,
   "id": "6b223a60",
   "metadata": {},
   "outputs": [
    {
     "data": {
      "text/html": [
       "<div>\n",
       "<style scoped>\n",
       "    .dataframe tbody tr th:only-of-type {\n",
       "        vertical-align: middle;\n",
       "    }\n",
       "\n",
       "    .dataframe tbody tr th {\n",
       "        vertical-align: top;\n",
       "    }\n",
       "\n",
       "    .dataframe thead th {\n",
       "        text-align: right;\n",
       "    }\n",
       "</style>\n",
       "<table border=\"1\" class=\"dataframe\">\n",
       "  <thead>\n",
       "    <tr style=\"text-align: right;\">\n",
       "      <th></th>\n",
       "      <th>title</th>\n",
       "      <th>price</th>\n",
       "      <th>img</th>\n",
       "    </tr>\n",
       "  </thead>\n",
       "  <tbody>\n",
       "    <tr>\n",
       "      <th>95</th>\n",
       "      <td>[앤드지 바이 지오지아] 스판원단 화이트 슬림드레스 셔츠 BZC5WD1301WT</td>\n",
       "      <td>29,500원</td>\n",
       "      <td>https://gdimg.gmarket.co.kr/2755836833/still/3...</td>\n",
       "    </tr>\n",
       "    <tr>\n",
       "      <th>96</th>\n",
       "      <td>[예작] 갤러리아 양말증정두장구매시예작22년신상가을신상품긴팔셔츠 YJ2FBS158DN</td>\n",
       "      <td>24,500원</td>\n",
       "      <td>https://gdimg.gmarket.co.kr/1784341310/still/3...</td>\n",
       "    </tr>\n",
       "    <tr>\n",
       "      <th>97</th>\n",
       "      <td>[예작] 예작 YJ9MBS468BL 모달 솔리드 블루 반팔 슬림핏 셔츠_이랜드리테일...</td>\n",
       "      <td>22,500원</td>\n",
       "      <td>https://gdimg.gmarket.co.kr/2617923544/still/3...</td>\n",
       "    </tr>\n",
       "    <tr>\n",
       "      <th>98</th>\n",
       "      <td>[웅가로] (롯데백화점)남방겸셔츠 슬림형(U1DA1DB03R)-OK</td>\n",
       "      <td>15,200원</td>\n",
       "      <td>https://gdimg.gmarket.co.kr/2650861775/still/3...</td>\n",
       "    </tr>\n",
       "    <tr>\n",
       "      <th>99</th>\n",
       "      <td>[예작] 예작 SH04 구김없는 런던스트라이프 와이드카라 YJ9FBS967BL (9...</td>\n",
       "      <td>21,830원</td>\n",
       "      <td>https://gdimg.gmarket.co.kr/2699999148/still/3...</td>\n",
       "    </tr>\n",
       "  </tbody>\n",
       "</table>\n",
       "</div>"
      ],
      "text/plain": [
       "                                                title    price  \\\n",
       "95       [앤드지 바이 지오지아] 스판원단 화이트 슬림드레스 셔츠 BZC5WD1301WT  29,500원   \n",
       "96    [예작] 갤러리아 양말증정두장구매시예작22년신상가을신상품긴팔셔츠 YJ2FBS158DN  24,500원   \n",
       "97  [예작] 예작 YJ9MBS468BL 모달 솔리드 블루 반팔 슬림핏 셔츠_이랜드리테일...  22,500원   \n",
       "98              [웅가로] (롯데백화점)남방겸셔츠 슬림형(U1DA1DB03R)-OK  15,200원   \n",
       "99  [예작] 예작 SH04 구김없는 런던스트라이프 와이드카라 YJ9FBS967BL (9...  21,830원   \n",
       "\n",
       "                                                  img  \n",
       "95  https://gdimg.gmarket.co.kr/2755836833/still/3...  \n",
       "96  https://gdimg.gmarket.co.kr/1784341310/still/3...  \n",
       "97  https://gdimg.gmarket.co.kr/2617923544/still/3...  \n",
       "98  https://gdimg.gmarket.co.kr/2650861775/still/3...  \n",
       "99  https://gdimg.gmarket.co.kr/2699999148/still/3...  "
      ]
     },
     "execution_count": 15,
     "metadata": {},
     "output_type": "execute_result"
    }
   ],
   "source": [
    "datas = []\n",
    "\n",
    "for element in elements:\n",
    "    datas.append({\n",
    "        'title' : element.select_one('.itemname').text,\n",
    "        'price' : element.select_one('.s-price > strong > span').text,\n",
    "        'img' : 'https:' + element.select_one('img.lazy').get('data-original'),\n",
    "    })\n",
    "\n",
    "df = pd.DataFrame(datas)\n",
    "df.tail()"
   ]
  },
  {
   "cell_type": "markdown",
   "id": "acd34499",
   "metadata": {},
   "source": [
    "# 상품 이미지 다운로드"
   ]
  },
  {
   "cell_type": "code",
   "execution_count": 16,
   "id": "a2ee8fe0",
   "metadata": {},
   "outputs": [
    {
     "name": "stdout",
     "output_type": "stream",
     "text": [
      " C 드라이브의 볼륨에는 이름이 없습니다.\n",
      " 볼륨 일련 번호: FC7B-0292\n",
      "\n",
      " C:\\Users\\hyuk\\Desktop\\WorkSpace\\Web\\vanilla\\Crawler 디렉터리\n",
      "\n",
      "2023-02-14  오전 12:54    <DIR>          .\n",
      "2023-02-14  오전 12:54    <DIR>          ..\n",
      "2023-02-14  오전 12:53    <DIR>          .ipynb_checkpoints\n",
      "2023-02-14  오전 12:54             5,383 Gmarket_crawler.ipynb\n",
      "               1개 파일               5,383 바이트\n",
      "               3개 디렉터리  71,103,352,832 바이트 남음\n"
     ]
    }
   ],
   "source": [
    "%ls"
   ]
  },
  {
   "cell_type": "code",
   "execution_count": null,
   "id": "3fe1024a",
   "metadata": {},
   "outputs": [],
   "source": [
    "# datas 디렉토리가 없으면 datas 디렉토리를 만든다\n",
    "if not os.path.exists('datas'):\n",
    "    os.makedirs('datas')"
   ]
  },
  {
   "cell_type": "code",
   "execution_count": 18,
   "id": "62863655",
   "metadata": {},
   "outputs": [
    {
     "name": "stdout",
     "output_type": "stream",
     "text": [
      "https://gdimg.gmarket.co.kr/1841014761/still/300?ver=2023021400\n"
     ]
    }
   ],
   "source": [
    "img = df.loc[0, \"img\"]\n",
    "print(img)"
   ]
  },
  {
   "cell_type": "code",
   "execution_count": null,
   "id": "f03e4d2d",
   "metadata": {},
   "outputs": [],
   "source": [
    "response = requests.get(img)"
   ]
  },
  {
   "cell_type": "code",
   "execution_count": null,
   "id": "2cfd00d2",
   "metadata": {},
   "outputs": [],
   "source": [
    "with open('datas/test.png', 'wb') as file:\n",
    "    file.write(response.content)"
   ]
  },
  {
   "cell_type": "code",
   "execution_count": null,
   "id": "815667d0",
   "metadata": {},
   "outputs": [],
   "source": [
    "%ls datas"
   ]
  },
  {
   "cell_type": "code",
   "execution_count": null,
   "id": "a8c9ba75",
   "metadata": {},
   "outputs": [],
   "source": [
    "from PIL import Image as pil"
   ]
  },
  {
   "cell_type": "code",
   "execution_count": null,
   "id": "1c81b545",
   "metadata": {},
   "outputs": [],
   "source": [
    "pil.open('datas/test.png')"
   ]
  },
  {
   "cell_type": "code",
   "execution_count": null,
   "id": "4c888694",
   "metadata": {},
   "outputs": [],
   "source": [
    "for idx, data in df[:5].iterrows():\n",
    "    filename = \"0\" * (3 - len(str(idx))) + str(idx)\n",
    "    print(idx, data['img'], filename)"
   ]
  },
  {
   "cell_type": "code",
   "execution_count": null,
   "id": "2c697a26",
   "metadata": {},
   "outputs": [],
   "source": [
    "for idx, data in df[:5].iterrows():\n",
    "    filename = \"0\" * (3 - len(str(idx))) + str(idx)\n",
    "    print(idx, end=' ')\n",
    "    response = requests.get(data['img'])\n",
    "    \n",
    "    with open(f'datas/{filename}.png', 'wb') as file:\n",
    "        file.write(response.content)"
   ]
  }
 ],
 "metadata": {
  "kernelspec": {
   "display_name": "Python 3 (ipykernel)",
   "language": "python",
   "name": "python3"
  },
  "language_info": {
   "codemirror_mode": {
    "name": "ipython",
    "version": 3
   },
   "file_extension": ".py",
   "mimetype": "text/x-python",
   "name": "python",
   "nbconvert_exporter": "python",
   "pygments_lexer": "ipython3",
   "version": "3.9.12"
  },
  "toc": {
   "base_numbering": 1,
   "nav_menu": {},
   "number_sections": true,
   "sideBar": true,
   "skip_h1_title": false,
   "title_cell": "Table of Contents",
   "title_sidebar": "Contents",
   "toc_cell": false,
   "toc_position": {},
   "toc_section_display": true,
   "toc_window_display": false
  }
 },
 "nbformat": 4,
 "nbformat_minor": 5
}
